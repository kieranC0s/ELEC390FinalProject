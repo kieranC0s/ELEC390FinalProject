{
 "cells": [
  {
   "cell_type": "code",
   "execution_count": 9,
   "metadata": {},
   "outputs": [],
   "source": [
    "import pandas as pd\n",
    "import numpy as np\n",
    "from sklearn.model_selection import train_test_split\n",
    "from sklearn.preprocessing import MinMaxScaler\n",
    "\n",
    "def read_data(file_path):\n",
    "\n",
    "    df = pd.read_csv(file_path)\n",
    "    df = df.rename(columns={\"Time (s)\": \"t\", \"X (m/s^2)\": \"x\", \"Y (m/s^2)\": \"y\", \"Z (m/s^2)\": \"z\"})\n",
    "    return df\n",
    "\n",
    "def label_data(df, label):\n",
    "\n",
    "    df['activity'] = label\n",
    "    return df\n",
    "\n",
    "def preprocess_data(df, window_size):\n",
    "\n",
    "    # Remove first and last 3 seconds\n",
    "    df = df.iloc[int(3 * df.shape[0] / 30):int(-3 * df.shape[0] / 30)]\n",
    "\n",
    "\n",
    "\n",
    "    # Apply rolling mean with window size\n",
    "    df_windowed = df.rolling(window_size).mean().dropna()\n",
    "    df_windowed = df_windowed.sample(frac=1).reset_index(drop=True)\n",
    "\n",
    "    # Apply normalization to x,y,z columns only\n",
    "    scaler = MinMaxScaler()\n",
    "    df_windowed[['x', 'y', 'z']] = scaler.fit_transform(df_windowed[['x', 'y', 'z']]) \n",
    "\n",
    "    return df_windowed\n",
    "\n",
    "\n",
    "kieran_walking = read_data('Accelerometer_Walking_Kieran.csv').reset_index(drop=True)\n",
    "kieran_jumping = read_data('Accelerometer_Jumping_Kieran.csv').reset_index(drop=True)\n",
    "amir_walking = read_data('Accelerometer_Walking_Amir.csv').reset_index(drop=True)\n",
    "amir_jumping = read_data('Accelerometer_Jumping_Amir.csv').reset_index(drop=True)\n",
    "jack_walking = read_data('Accelerometer_Walking_Jack.csv').reset_index(drop=True)\n",
    "jack_jumping = read_data('Accelerometer_Jumping_Jack.csv').reset_index(drop=True)\n",
    "\n",
    "\n",
    "kieran_walking = label_data(kieran_walking, 0)\n",
    "kieran_jumping = label_data(kieran_jumping, 1)\n",
    "amir_walking = label_data(amir_walking, 0)\n",
    "amir_jumping = label_data(amir_jumping, 1)\n",
    "jack_walking = label_data(jack_walking, 0)\n",
    "jack_jumping = label_data(jack_jumping, 1)\n",
    "\n",
    "\n",
    "window_size = 500\n",
    "kieran_walking_windowed = preprocess_data(kieran_walking, window_size)\n",
    "kieran_jumping_windowed = preprocess_data(kieran_jumping, window_size)\n",
    "amir_walking_windowed = preprocess_data(amir_walking, window_size)\n",
    "amir_jumping_windowed = preprocess_data(amir_jumping, window_size)\n",
    "jack_walking_windowed = preprocess_data(jack_walking, window_size)\n",
    "jack_jumping_windowed = preprocess_data(jack_jumping, window_size)\n",
    "\n",
    "\n",
    "df_concat = pd.concat([kieran_walking_windowed, kieran_jumping_windowed,\n",
    "amir_walking_windowed, amir_jumping_windowed,\n",
    "jack_walking_windowed, jack_jumping_windowed], ignore_index=True)\n",
    "\n",
    "\n",
    "df_concat.to_csv('accelerometer_data.csv', index=True)"
   ]
  },
  {
   "cell_type": "code",
   "execution_count": null,
   "metadata": {},
   "outputs": [],
   "source": [
    "df_concat = df_concat.reset_index(drop=False)\n",
    "df_concat = df_concat.rename(columns={\"index\": \"index_col\"})\n",
    "df_concat.to_csv('accelerometer_data1.csv', index=False)\n"
   ]
  },
  {
   "cell_type": "markdown",
   "metadata": {},
   "source": [
    "Create a labls dataframe for y train and test"
   ]
  },
  {
   "cell_type": "code",
   "execution_count": 10,
   "metadata": {},
   "outputs": [],
   "source": [
    "activity_labels = pd.DataFrame(df_concat['activity'])\n",
    "pd.DataFrame(activity_labels)\n"
   ]
  },
  {
   "cell_type": "markdown",
   "metadata": {},
   "source": [
    "# Feature Extraction "
   ]
  },
  {
   "cell_type": "code",
   "execution_count": null,
   "metadata": {},
   "outputs": [],
   "source": [
    "def extract_features(data):\n",
    "    features = []\n",
    "    for window in data:\n",
    "        feature_list = []\n",
    "        for axis in range(1, 4):  # Iterate over x, y, and z axes\n",
    "            axis_data = window[:, axis]\n",
    "\n",
    "            # Calculate the features for each axis\n",
    "            max_value = np.max(axis_data)\n",
    "            min_value = np.min(axis_data)\n",
    "            range_value = max_value - min_value\n",
    "            mean_value = np.mean(axis_data)\n",
    "            median_value = np.median(axis_data)\n",
    "            variance = np.var(axis_data)\n",
    "            skewness = stats.skew(axis_data)\n",
    "            rms = np.sqrt(np.mean(axis_data ** 2))\n",
    "            kurtosis = stats.kurtosis(axis_data)\n",
    "            std_dev = np.std(axis_data)\n",
    "\n",
    "            # Add the features to the feature list\n",
    "            feature_list.extend([max_value, min_value, range_value, mean_value, median_value,\n",
    "                                 variance, skewness, rms, kurtosis, std_dev])\n",
    "\n",
    "        features.append(feature_list)\n",
    "\n",
    "    return np.array(features)"
   ]
  }
 ],
 "metadata": {
  "kernelspec": {
   "display_name": "Python 3.11.0 64-bit",
   "language": "python",
   "name": "python3"
  },
  "language_info": {
   "codemirror_mode": {
    "name": "ipython",
    "version": 3
   },
   "file_extension": ".py",
   "mimetype": "text/x-python",
   "name": "python",
   "nbconvert_exporter": "python",
   "pygments_lexer": "ipython3",
   "version": "3.11.0"
  },
  "orig_nbformat": 4,
  "vscode": {
   "interpreter": {
    "hash": "aee8b7b246df8f9039afb4144a1f6fd8d2ca17a180786b69acc140d282b71a49"
   }
  }
 },
 "nbformat": 4,
 "nbformat_minor": 2
}
